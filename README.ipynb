{
 "cells": [
  {
   "cell_type": "markdown",
   "metadata": {},
   "source": [
    "Based on data sets ranging from 2003 to 2017 and listing hazardous waste emissions and the responsible facilities, the package enables data to be graphically presented on an interactive map.\n",
    "First we create two maps (years 2003 and 2017). The diameter of the circle associated with each emission zone is proportional to the amount of waste produced.\n",
    "\n",
    "Then we generalize. Importation of data is automated for years between 2003 and 2017 and the associated maps are successively produced and saved in png format.\n",
    "Finally, these fifteen maps are used to make a short video (GIF).\n"
   ]
  },
  {
   "cell_type": "markdown",
   "metadata": {},
   "source": [
    "![GIF](header.gif)"
   ]
  },
  {
   "cell_type": "code",
   "execution_count": null,
   "metadata": {},
   "outputs": [],
   "source": []
  }
 ],
 "metadata": {
  "kernelspec": {
   "display_name": "Python 3",
   "language": "python",
   "name": "python3"
  },
  "language_info": {
   "codemirror_mode": {
    "name": "ipython",
    "version": 3
   },
   "file_extension": ".py",
   "mimetype": "text/x-python",
   "name": "python",
   "nbconvert_exporter": "python",
   "pygments_lexer": "ipython3",
   "version": "3.7.3"
  }
 },
 "nbformat": 4,
 "nbformat_minor": 4
}
